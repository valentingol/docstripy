{
 "cells": [
  {
   "cell_type": "code",
   "execution_count": null,
   "metadata": {},
   "outputs": [],
   "source": [
    "def func1(x: int = 0):\n",
    "    \"\"\"Function 1.\n",
    "\n",
    "    Parameters\n",
    "    ----------\n",
    "    x :\n",
    "        Description of x.\n",
    "    \"\"\"\n",
    "    return x + 1"
   ]
  },
  {
   "cell_type": "code",
   "execution_count": null,
   "metadata": {},
   "outputs": [],
   "source": [
    "def func1(x: str = \"\"):\n",
    "    \"\"\"Function 2.\n",
    "\n",
    "    Parameters\n",
    "    ----------\n",
    "    x :\n",
    "        Description of x.\n",
    "    \"\"\"\n",
    "    return x + \"2\""
   ]
  }
 ],
 "metadata": {
  "language_info": {
   "name": "python"
  }
 },
 "nbformat": 4,
 "nbformat_minor": 2
}
